{
  "nbformat": 4,
  "nbformat_minor": 0,
  "metadata": {
    "colab": {
      "name": "BILL.com.ipynb",
      "provenance": [],
      "collapsed_sections": [],
      "include_colab_link": true
    },
    "kernelspec": {
      "name": "python3",
      "display_name": "Python 3"
    }
  },
  "cells": [
    {
      "cell_type": "markdown",
      "metadata": {
        "id": "view-in-github",
        "colab_type": "text"
      },
      "source": [
        "<a href=\"https://colab.research.google.com/github/mitosborn/ChevronChallenge/blob/main/BILL_com.ipynb\" target=\"_parent\"><img src=\"https://colab.research.google.com/assets/colab-badge.svg\" alt=\"Open In Colab\"/></a>"
      ]
    },
    {
      "cell_type": "code",
      "metadata": {
        "id": "19PuJ6aSGxw7"
      },
      "source": [
        "import pandas as pd\n",
        "import seaborn as sns"
      ],
      "execution_count": null,
      "outputs": []
    },
    {
      "cell_type": "code",
      "metadata": {
        "id": "CKaYzCLMaLIP"
      },
      "source": [
        "hotdog = pd.read_csv('training.csv')"
      ],
      "execution_count": null,
      "outputs": []
    },
    {
      "cell_type": "code",
      "metadata": {
        "colab": {
          "base_uri": "https://localhost:8080/",
          "height": 521
        },
        "id": "DK3DnsCledV3",
        "outputId": "f44a7ec9-7d29-44f1-f245-b409cb5c4ee0"
      },
      "source": [
        "hotdog"
      ],
      "execution_count": null,
      "outputs": [
        {
          "output_type": "execute_result",
          "data": {
            "text/html": [
              "<div>\n",
              "<style scoped>\n",
              "    .dataframe tbody tr th:only-of-type {\n",
              "        vertical-align: middle;\n",
              "    }\n",
              "\n",
              "    .dataframe tbody tr th {\n",
              "        vertical-align: top;\n",
              "    }\n",
              "\n",
              "    .dataframe thead th {\n",
              "        text-align: right;\n",
              "    }\n",
              "</style>\n",
              "<table border=\"1\" class=\"dataframe\">\n",
              "  <thead>\n",
              "    <tr style=\"text-align: right;\">\n",
              "      <th></th>\n",
              "      <th>StoreNumber</th>\n",
              "      <th>dayOfTheYear</th>\n",
              "      <th>3HourBucket</th>\n",
              "      <th>GrossSoldQuantity</th>\n",
              "      <th>Cash/Credit Site</th>\n",
              "      <th>EBT Site</th>\n",
              "      <th>Loyalty Site</th>\n",
              "      <th>ExtraMile Site</th>\n",
              "      <th>CoBrand</th>\n",
              "      <th>Alcohol</th>\n",
              "      <th>Carwash</th>\n",
              "      <th>Food Service</th>\n",
              "      <th>City</th>\n",
              "      <th>State</th>\n",
              "    </tr>\n",
              "  </thead>\n",
              "  <tbody>\n",
              "    <tr>\n",
              "      <th>0</th>\n",
              "      <td>1000</td>\n",
              "      <td>1</td>\n",
              "      <td>1</td>\n",
              "      <td>3</td>\n",
              "      <td>False</td>\n",
              "      <td>True</td>\n",
              "      <td>True</td>\n",
              "      <td>True</td>\n",
              "      <td>No</td>\n",
              "      <td>True</td>\n",
              "      <td>False</td>\n",
              "      <td>True</td>\n",
              "      <td>HOUSTON</td>\n",
              "      <td>TX</td>\n",
              "    </tr>\n",
              "    <tr>\n",
              "      <th>1</th>\n",
              "      <td>1000</td>\n",
              "      <td>1</td>\n",
              "      <td>2</td>\n",
              "      <td>5</td>\n",
              "      <td>False</td>\n",
              "      <td>True</td>\n",
              "      <td>True</td>\n",
              "      <td>True</td>\n",
              "      <td>No</td>\n",
              "      <td>True</td>\n",
              "      <td>False</td>\n",
              "      <td>True</td>\n",
              "      <td>HOUSTON</td>\n",
              "      <td>TX</td>\n",
              "    </tr>\n",
              "    <tr>\n",
              "      <th>2</th>\n",
              "      <td>1000</td>\n",
              "      <td>1</td>\n",
              "      <td>3</td>\n",
              "      <td>6</td>\n",
              "      <td>False</td>\n",
              "      <td>True</td>\n",
              "      <td>True</td>\n",
              "      <td>True</td>\n",
              "      <td>No</td>\n",
              "      <td>True</td>\n",
              "      <td>False</td>\n",
              "      <td>True</td>\n",
              "      <td>HOUSTON</td>\n",
              "      <td>TX</td>\n",
              "    </tr>\n",
              "    <tr>\n",
              "      <th>3</th>\n",
              "      <td>1000</td>\n",
              "      <td>1</td>\n",
              "      <td>4</td>\n",
              "      <td>3</td>\n",
              "      <td>False</td>\n",
              "      <td>True</td>\n",
              "      <td>True</td>\n",
              "      <td>True</td>\n",
              "      <td>No</td>\n",
              "      <td>True</td>\n",
              "      <td>False</td>\n",
              "      <td>True</td>\n",
              "      <td>HOUSTON</td>\n",
              "      <td>TX</td>\n",
              "    </tr>\n",
              "    <tr>\n",
              "      <th>4</th>\n",
              "      <td>1000</td>\n",
              "      <td>2</td>\n",
              "      <td>1</td>\n",
              "      <td>13</td>\n",
              "      <td>False</td>\n",
              "      <td>True</td>\n",
              "      <td>True</td>\n",
              "      <td>True</td>\n",
              "      <td>No</td>\n",
              "      <td>True</td>\n",
              "      <td>False</td>\n",
              "      <td>True</td>\n",
              "      <td>HOUSTON</td>\n",
              "      <td>TX</td>\n",
              "    </tr>\n",
              "    <tr>\n",
              "      <th>...</th>\n",
              "      <td>...</td>\n",
              "      <td>...</td>\n",
              "      <td>...</td>\n",
              "      <td>...</td>\n",
              "      <td>...</td>\n",
              "      <td>...</td>\n",
              "      <td>...</td>\n",
              "      <td>...</td>\n",
              "      <td>...</td>\n",
              "      <td>...</td>\n",
              "      <td>...</td>\n",
              "      <td>...</td>\n",
              "      <td>...</td>\n",
              "      <td>...</td>\n",
              "    </tr>\n",
              "    <tr>\n",
              "      <th>5655</th>\n",
              "      <td>4000</td>\n",
              "      <td>362</td>\n",
              "      <td>2</td>\n",
              "      <td>20</td>\n",
              "      <td>False</td>\n",
              "      <td>False</td>\n",
              "      <td>True</td>\n",
              "      <td>True</td>\n",
              "      <td>No</td>\n",
              "      <td>False</td>\n",
              "      <td>True</td>\n",
              "      <td>True</td>\n",
              "      <td>SAN ANTONiO</td>\n",
              "      <td>TX</td>\n",
              "    </tr>\n",
              "    <tr>\n",
              "      <th>5656</th>\n",
              "      <td>4000</td>\n",
              "      <td>362</td>\n",
              "      <td>3</td>\n",
              "      <td>26</td>\n",
              "      <td>False</td>\n",
              "      <td>False</td>\n",
              "      <td>True</td>\n",
              "      <td>True</td>\n",
              "      <td>No</td>\n",
              "      <td>False</td>\n",
              "      <td>True</td>\n",
              "      <td>True</td>\n",
              "      <td>SAN ANTONiO</td>\n",
              "      <td>TX</td>\n",
              "    </tr>\n",
              "    <tr>\n",
              "      <th>5657</th>\n",
              "      <td>4000</td>\n",
              "      <td>362</td>\n",
              "      <td>4</td>\n",
              "      <td>37</td>\n",
              "      <td>False</td>\n",
              "      <td>False</td>\n",
              "      <td>True</td>\n",
              "      <td>True</td>\n",
              "      <td>No</td>\n",
              "      <td>False</td>\n",
              "      <td>True</td>\n",
              "      <td>True</td>\n",
              "      <td>SAN ANTONiO</td>\n",
              "      <td>TX</td>\n",
              "    </tr>\n",
              "    <tr>\n",
              "      <th>5658</th>\n",
              "      <td>4000</td>\n",
              "      <td>363</td>\n",
              "      <td>3</td>\n",
              "      <td>27</td>\n",
              "      <td>False</td>\n",
              "      <td>False</td>\n",
              "      <td>True</td>\n",
              "      <td>True</td>\n",
              "      <td>No</td>\n",
              "      <td>False</td>\n",
              "      <td>True</td>\n",
              "      <td>True</td>\n",
              "      <td>SAN ANTONiO</td>\n",
              "      <td>TX</td>\n",
              "    </tr>\n",
              "    <tr>\n",
              "      <th>5659</th>\n",
              "      <td>4000</td>\n",
              "      <td>363</td>\n",
              "      <td>4</td>\n",
              "      <td>43</td>\n",
              "      <td>False</td>\n",
              "      <td>False</td>\n",
              "      <td>True</td>\n",
              "      <td>True</td>\n",
              "      <td>No</td>\n",
              "      <td>False</td>\n",
              "      <td>True</td>\n",
              "      <td>True</td>\n",
              "      <td>SAN ANTONiO</td>\n",
              "      <td>TX</td>\n",
              "    </tr>\n",
              "  </tbody>\n",
              "</table>\n",
              "<p>5660 rows × 14 columns</p>\n",
              "</div>"
            ],
            "text/plain": [
              "      StoreNumber  dayOfTheYear  3HourBucket  ...  Food Service         City  State\n",
              "0            1000             1            1  ...          True      HOUSTON     TX\n",
              "1            1000             1            2  ...          True      HOUSTON     TX\n",
              "2            1000             1            3  ...          True      HOUSTON     TX\n",
              "3            1000             1            4  ...          True      HOUSTON     TX\n",
              "4            1000             2            1  ...          True      HOUSTON     TX\n",
              "...           ...           ...          ...  ...           ...          ...    ...\n",
              "5655         4000           362            2  ...          True  SAN ANTONiO     TX\n",
              "5656         4000           362            3  ...          True  SAN ANTONiO     TX\n",
              "5657         4000           362            4  ...          True  SAN ANTONiO     TX\n",
              "5658         4000           363            3  ...          True  SAN ANTONiO     TX\n",
              "5659         4000           363            4  ...          True  SAN ANTONiO     TX\n",
              "\n",
              "[5660 rows x 14 columns]"
            ]
          },
          "metadata": {
            "tags": []
          },
          "execution_count": 43
        }
      ]
    },
    {
      "cell_type": "code",
      "metadata": {
        "id": "gIbg9vb-fyg0"
      },
      "source": [
        "#temp = hotdog[['dayOfTheYear','StoreNumber','GrossSoldQuantity']].groupby(['dayOfTheYear','StoreNumber']).agg('mean').reset_index()"
      ],
      "execution_count": null,
      "outputs": []
    },
    {
      "cell_type": "code",
      "metadata": {
        "id": "V9QsrJkBgcik"
      },
      "source": [
        ""
      ],
      "execution_count": null,
      "outputs": []
    },
    {
      "cell_type": "code",
      "metadata": {
        "id": "kwOol4o7eeHm"
      },
      "source": [
        "#sns.lineplot(x = 'dayOfTheYear',y='GrossSoldQuantity',data = temp[temp['StoreNumber'] ==1000])"
      ],
      "execution_count": null,
      "outputs": []
    },
    {
      "cell_type": "code",
      "metadata": {
        "colab": {
          "base_uri": "https://localhost:8080/"
        },
        "id": "EyiZ-YhJerjn",
        "outputId": "96810017-4866-4fad-d962-a546e56a4f7f"
      },
      "source": [
        "hotdog.info()"
      ],
      "execution_count": null,
      "outputs": [
        {
          "output_type": "stream",
          "text": [
            "<class 'pandas.core.frame.DataFrame'>\n",
            "RangeIndex: 5660 entries, 0 to 5659\n",
            "Data columns (total 14 columns):\n",
            " #   Column             Non-Null Count  Dtype \n",
            "---  ------             --------------  ----- \n",
            " 0   StoreNumber        5660 non-null   int64 \n",
            " 1   dayOfTheYear       5660 non-null   int64 \n",
            " 2   3HourBucket        5660 non-null   int64 \n",
            " 3   GrossSoldQuantity  5660 non-null   int64 \n",
            " 4   Cash/Credit Site   5660 non-null   bool  \n",
            " 5   EBT Site           5660 non-null   bool  \n",
            " 6   Loyalty Site       5660 non-null   bool  \n",
            " 7   ExtraMile Site     5660 non-null   bool  \n",
            " 8   CoBrand            5660 non-null   object\n",
            " 9   Alcohol            5660 non-null   bool  \n",
            " 10  Carwash            5660 non-null   bool  \n",
            " 11  Food Service       5660 non-null   bool  \n",
            " 12  City               5660 non-null   object\n",
            " 13  State              5660 non-null   object\n",
            "dtypes: bool(7), int64(4), object(3)\n",
            "memory usage: 348.3+ KB\n"
          ],
          "name": "stdout"
        }
      ]
    },
    {
      "cell_type": "code",
      "metadata": {
        "id": "cV9SMhLXktlg"
      },
      "source": [
        "def transform_TF(boolean):\n",
        "  if boolean == 'No':\n",
        "    return 0\n",
        "  elif boolean == 'Yes':\n",
        "    return 1\n",
        "  elif boolean:\n",
        "    return 1\n",
        "  else: \n",
        "    return 0\n",
        "hotdog['Loyalty Site'].map(transform_TF)\n",
        "cty_map = {'HOUSTON':0,'AUSTIN':1,'COLLEGE STATION':2,'SAN ANTONiO':3} "
      ],
      "execution_count": null,
      "outputs": []
    },
    {
      "cell_type": "code",
      "metadata": {
        "id": "ySq96exik-Qi"
      },
      "source": [
        "#Convert True and Yes to 1, False and No to 0. Additionally, convert city names to numbers\n",
        "for col in hotdog.columns[4:-2]:\n",
        "  hotdog[col] = hotdog[col].map(transform_TF)\n",
        "hotdog['City'] = hotdog['City'].map(cty_map)  "
      ],
      "execution_count": null,
      "outputs": []
    },
    {
      "cell_type": "code",
      "metadata": {
        "colab": {
          "base_uri": "https://localhost:8080/"
        },
        "id": "quxEog7QlS14",
        "outputId": "86d7921e-8a84-425e-9247-ea4bfef0f4b6"
      },
      "source": [
        "hotdog.columns"
      ],
      "execution_count": null,
      "outputs": [
        {
          "output_type": "execute_result",
          "data": {
            "text/plain": [
              "Index(['StoreNumber', 'dayOfTheYear', '3HourBucket', 'GrossSoldQuantity',\n",
              "       'Cash/Credit Site', 'EBT Site', 'Loyalty Site', 'ExtraMile Site',\n",
              "       'CoBrand', 'Alcohol', 'Carwash', 'Food Service', 'City', 'State'],\n",
              "      dtype='object')"
            ]
          },
          "metadata": {
            "tags": []
          },
          "execution_count": 47
        }
      ]
    },
    {
      "cell_type": "code",
      "metadata": {
        "colab": {
          "base_uri": "https://localhost:8080/",
          "height": 173
        },
        "id": "jOLTjjaiqCR7",
        "outputId": "ed4702d5-2da9-41a9-d9c8-b70ac2f9c61e"
      },
      "source": [
        "hotdog[['Cash/Credit Site', 'EBT Site', 'Loyalty Site', 'ExtraMile Site',\n",
        "       'CoBrand', 'Alcohol', 'Carwash', 'Food Service','City']].drop_duplicates()"
      ],
      "execution_count": null,
      "outputs": [
        {
          "output_type": "execute_result",
          "data": {
            "text/html": [
              "<div>\n",
              "<style scoped>\n",
              "    .dataframe tbody tr th:only-of-type {\n",
              "        vertical-align: middle;\n",
              "    }\n",
              "\n",
              "    .dataframe tbody tr th {\n",
              "        vertical-align: top;\n",
              "    }\n",
              "\n",
              "    .dataframe thead th {\n",
              "        text-align: right;\n",
              "    }\n",
              "</style>\n",
              "<table border=\"1\" class=\"dataframe\">\n",
              "  <thead>\n",
              "    <tr style=\"text-align: right;\">\n",
              "      <th></th>\n",
              "      <th>Cash/Credit Site</th>\n",
              "      <th>EBT Site</th>\n",
              "      <th>Loyalty Site</th>\n",
              "      <th>ExtraMile Site</th>\n",
              "      <th>CoBrand</th>\n",
              "      <th>Alcohol</th>\n",
              "      <th>Carwash</th>\n",
              "      <th>Food Service</th>\n",
              "      <th>City</th>\n",
              "    </tr>\n",
              "  </thead>\n",
              "  <tbody>\n",
              "    <tr>\n",
              "      <th>0</th>\n",
              "      <td>0</td>\n",
              "      <td>1</td>\n",
              "      <td>1</td>\n",
              "      <td>1</td>\n",
              "      <td>0</td>\n",
              "      <td>1</td>\n",
              "      <td>0</td>\n",
              "      <td>1</td>\n",
              "      <td>0</td>\n",
              "    </tr>\n",
              "    <tr>\n",
              "      <th>1413</th>\n",
              "      <td>0</td>\n",
              "      <td>0</td>\n",
              "      <td>1</td>\n",
              "      <td>1</td>\n",
              "      <td>0</td>\n",
              "      <td>0</td>\n",
              "      <td>0</td>\n",
              "      <td>1</td>\n",
              "      <td>1</td>\n",
              "    </tr>\n",
              "    <tr>\n",
              "      <th>2830</th>\n",
              "      <td>0</td>\n",
              "      <td>1</td>\n",
              "      <td>1</td>\n",
              "      <td>1</td>\n",
              "      <td>0</td>\n",
              "      <td>1</td>\n",
              "      <td>1</td>\n",
              "      <td>1</td>\n",
              "      <td>2</td>\n",
              "    </tr>\n",
              "    <tr>\n",
              "      <th>4243</th>\n",
              "      <td>0</td>\n",
              "      <td>0</td>\n",
              "      <td>1</td>\n",
              "      <td>1</td>\n",
              "      <td>0</td>\n",
              "      <td>0</td>\n",
              "      <td>1</td>\n",
              "      <td>1</td>\n",
              "      <td>3</td>\n",
              "    </tr>\n",
              "  </tbody>\n",
              "</table>\n",
              "</div>"
            ],
            "text/plain": [
              "      Cash/Credit Site  EBT Site  Loyalty Site  ...  Carwash  Food Service  City\n",
              "0                    0         1             1  ...        0             1     0\n",
              "1413                 0         0             1  ...        0             1     1\n",
              "2830                 0         1             1  ...        1             1     2\n",
              "4243                 0         0             1  ...        1             1     3\n",
              "\n",
              "[4 rows x 9 columns]"
            ]
          },
          "metadata": {
            "tags": []
          },
          "execution_count": 48
        }
      ]
    },
    {
      "cell_type": "code",
      "metadata": {
        "id": "dQ9uRxPbqJNj"
      },
      "source": [
        "#new_hotdog = hotdog[['StoreNumber','EBT Site',\n",
        "#      'Alcohol', 'Carwash','City']]"
      ],
      "execution_count": null,
      "outputs": []
    },
    {
      "cell_type": "code",
      "metadata": {
        "id": "iaWo_u1cqb3d"
      },
      "source": [
        "#new_hotdog.drop_duplicates()"
      ],
      "execution_count": null,
      "outputs": []
    },
    {
      "cell_type": "code",
      "metadata": {
        "id": "ipXIU1zFqfwl",
        "colab": {
          "base_uri": "https://localhost:8080/"
        },
        "outputId": "1852a891-1046-487e-ffe1-864e4cfc008c"
      },
      "source": [
        "from sklearn.ensemble import RandomForestRegressor\r\n",
        "from sklearn.model_selection import train_test_split\r\n",
        "\r\n",
        "\r\n",
        "X = hotdog[['dayOfTheYear','StoreNumber','EBT Site',\r\n",
        "       'Alcohol', 'Carwash','3HourBucket','City']]\r\n",
        "y = hotdog[['GrossSoldQuantity']]\r\n",
        "train_X, test_X, train_y, y_test = train_test_split(X , y, test_size = 0.2) \r\n",
        "\r\n",
        "clf = RandomForestRegressor(n_estimators=100)\r\n",
        "clf.fit(train_X, train_y)\r\n",
        "y_pred_rf=clf.predict(test_X)\r\n",
        "acc_rf= round(clf.score(train_X, train_y) * 100,3)"
      ],
      "execution_count": null,
      "outputs": [
        {
          "output_type": "stream",
          "text": [
            "/usr/local/lib/python3.6/dist-packages/ipykernel_launcher.py:11: DataConversionWarning: A column-vector y was passed when a 1d array was expected. Please change the shape of y to (n_samples,), for example using ravel().\n",
            "  # This is added back by InteractiveShellApp.init_path()\n"
          ],
          "name": "stderr"
        }
      ]
    },
    {
      "cell_type": "code",
      "metadata": {
        "id": "01ciurVOt9fP",
        "colab": {
          "base_uri": "https://localhost:8080/"
        },
        "outputId": "470c4852-bcd2-4586-9f2d-72dbcf020b62"
      },
      "source": [
        "y_pred_rf"
      ],
      "execution_count": null,
      "outputs": [
        {
          "output_type": "execute_result",
          "data": {
            "text/plain": [
              "array([13.03,  5.29,  9.03, ..., 18.84,  8.34, 30.48])"
            ]
          },
          "metadata": {
            "tags": []
          },
          "execution_count": 59
        }
      ]
    },
    {
      "cell_type": "code",
      "metadata": {
        "colab": {
          "base_uri": "https://localhost:8080/"
        },
        "id": "ILIz4GpDvZpq",
        "outputId": "42b86f8a-e38c-447a-b043-21a484293019"
      },
      "source": [
        "acc_rf"
      ],
      "execution_count": null,
      "outputs": [
        {
          "output_type": "execute_result",
          "data": {
            "text/plain": [
              "94.827"
            ]
          },
          "metadata": {
            "tags": []
          },
          "execution_count": 60
        }
      ]
    },
    {
      "cell_type": "code",
      "metadata": {
        "colab": {
          "base_uri": "https://localhost:8080/",
          "height": 419
        },
        "id": "hHfZCPxyvayG",
        "outputId": "78792f5b-e3ca-4add-e8fd-f1baa451eada"
      },
      "source": [
        "y_test"
      ],
      "execution_count": null,
      "outputs": [
        {
          "output_type": "execute_result",
          "data": {
            "text/html": [
              "<div>\n",
              "<style scoped>\n",
              "    .dataframe tbody tr th:only-of-type {\n",
              "        vertical-align: middle;\n",
              "    }\n",
              "\n",
              "    .dataframe tbody tr th {\n",
              "        vertical-align: top;\n",
              "    }\n",
              "\n",
              "    .dataframe thead th {\n",
              "        text-align: right;\n",
              "    }\n",
              "</style>\n",
              "<table border=\"1\" class=\"dataframe\">\n",
              "  <thead>\n",
              "    <tr style=\"text-align: right;\">\n",
              "      <th></th>\n",
              "      <th>GrossSoldQuantity</th>\n",
              "    </tr>\n",
              "  </thead>\n",
              "  <tbody>\n",
              "    <tr>\n",
              "      <th>3187</th>\n",
              "      <td>28</td>\n",
              "    </tr>\n",
              "    <tr>\n",
              "      <th>2057</th>\n",
              "      <td>5</td>\n",
              "    </tr>\n",
              "    <tr>\n",
              "      <th>2953</th>\n",
              "      <td>4</td>\n",
              "    </tr>\n",
              "    <tr>\n",
              "      <th>405</th>\n",
              "      <td>1</td>\n",
              "    </tr>\n",
              "    <tr>\n",
              "      <th>1215</th>\n",
              "      <td>4</td>\n",
              "    </tr>\n",
              "    <tr>\n",
              "      <th>...</th>\n",
              "      <td>...</td>\n",
              "    </tr>\n",
              "    <tr>\n",
              "      <th>3910</th>\n",
              "      <td>5</td>\n",
              "    </tr>\n",
              "    <tr>\n",
              "      <th>409</th>\n",
              "      <td>3</td>\n",
              "    </tr>\n",
              "    <tr>\n",
              "      <th>4714</th>\n",
              "      <td>30</td>\n",
              "    </tr>\n",
              "    <tr>\n",
              "      <th>566</th>\n",
              "      <td>7</td>\n",
              "    </tr>\n",
              "    <tr>\n",
              "      <th>1338</th>\n",
              "      <td>32</td>\n",
              "    </tr>\n",
              "  </tbody>\n",
              "</table>\n",
              "<p>1132 rows × 1 columns</p>\n",
              "</div>"
            ],
            "text/plain": [
              "      GrossSoldQuantity\n",
              "3187                 28\n",
              "2057                  5\n",
              "2953                  4\n",
              "405                   1\n",
              "1215                  4\n",
              "...                 ...\n",
              "3910                  5\n",
              "409                   3\n",
              "4714                 30\n",
              "566                   7\n",
              "1338                 32\n",
              "\n",
              "[1132 rows x 1 columns]"
            ]
          },
          "metadata": {
            "tags": []
          },
          "execution_count": 61
        }
      ]
    },
    {
      "cell_type": "code",
      "metadata": {
        "id": "n0xUxMcGvt71"
      },
      "source": [
        "import math\n",
        "import numpy as np\n",
        "\n",
        "new_y = [x[0] for x in np.array(y_test)]\n",
        "data = pd.DataFrame(columns = ['predict','real'])\n",
        "data['predict'] = pd.Series(y_pred_rf).round().astype(int)\n",
        "data['real'] = new_y\n",
        "data['diff'] = abs((data['predict']-data['real'])/data['real'])\n"
      ],
      "execution_count": null,
      "outputs": []
    },
    {
      "cell_type": "code",
      "metadata": {
        "colab": {
          "base_uri": "https://localhost:8080/",
          "height": 283
        },
        "id": "l_aNriw9xMBi",
        "outputId": "20ad2f15-76d7-47a3-ab49-c609d36355ec"
      },
      "source": [
        "data['diff'].plot()"
      ],
      "execution_count": null,
      "outputs": [
        {
          "output_type": "execute_result",
          "data": {
            "text/plain": [
              "<matplotlib.axes._subplots.AxesSubplot at 0x7f90df7bc5f8>"
            ]
          },
          "metadata": {
            "tags": []
          },
          "execution_count": 63
        },
        {
          "output_type": "display_data",
          "data": {
            "image/png": "[encoded data removed]",
            "text/plain": [
              "<Figure size 432x288 with 1 Axes>"
            ]
          },
          "metadata": {
            "tags": [],
            "needs_background": "light"
          }
        }
      ]
    },
    {
      "cell_type": "code",
      "metadata": {
        "id": "nRSxD8QJyBwU",
        "colab": {
          "base_uri": "https://localhost:8080/"
        },
        "outputId": "ef5a92ff-c283-49b9-b133-b31cca1eb9b2"
      },
      "source": [
        "data['predict']"
      ],
      "execution_count": null,
      "outputs": [
        {
          "output_type": "execute_result",
          "data": {
            "text/plain": [
              "0       13\n",
              "1        5\n",
              "2        9\n",
              "3        8\n",
              "4       11\n",
              "        ..\n",
              "1127     8\n",
              "1128    11\n",
              "1129    19\n",
              "1130     8\n",
              "1131    30\n",
              "Name: predict, Length: 1132, dtype: int64"
            ]
          },
          "metadata": {
            "tags": []
          },
          "execution_count": 64
        }
      ]
    },
    {
      "cell_type": "code",
      "metadata": {
        "colab": {
          "base_uri": "https://localhost:8080/"
        },
        "id": "DDtH2cRuz1Zu",
        "outputId": "904cbf76-9df1-4f58-c72b-713ba678ffc7"
      },
      "source": [
        "sum(abs(np.subtract(new_y,y_pred_rf))<0.5)/len(new_y)"
      ],
      "execution_count": null,
      "outputs": [
        {
          "output_type": "execute_result",
          "data": {
            "text/plain": [
              "0.07243816254416961"
            ]
          },
          "metadata": {
            "tags": []
          },
          "execution_count": 65
        }
      ]
    },
    {
      "cell_type": "code",
      "metadata": {
        "id": "Gr5Y95uo1KBs"
      },
      "source": [
        ""
      ],
      "execution_count": null,
      "outputs": []
    }
  ]
}
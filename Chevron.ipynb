{
  "nbformat": 4,
  "nbformat_minor": 0,
  "metadata": {
    "colab": {
      "name": "Chevron.ipynb",
      "provenance": [],
      "collapsed_sections": [],
      "include_colab_link": true
    },
    "kernelspec": {
      "name": "python3",
      "display_name": "Python 3"
    }
  },
  "cells": [
    {
      "cell_type": "markdown",
      "metadata": {
        "id": "view-in-github",
        "colab_type": "text"
      },
      "source": [
        "<a href=\"https://colab.research.google.com/github/mitosborn/ChevronChallenge/blob/main/Chevron.ipynb\" target=\"_parent\"><img src=\"https://colab.research.google.com/assets/colab-badge.svg\" alt=\"Open In Colab\"/></a>"
      ]
    },
    {
      "cell_type": "code",
      "metadata": {
        "id": "19PuJ6aSGxw7"
      },
      "source": [
        "import pandas as pd\n",
        "import seaborn as sns"
      ],
      "execution_count": null,
      "outputs": []
    },
    {
      "cell_type": "code",
      "metadata": {
        "id": "CKaYzCLMaLIP"
      },
      "source": [
        "\n",
        "hotdog = pd.read_csv('training.csv')\n",
        "scoring = pd.read_csv('scoring.csv')"
      ],
      "execution_count": null,
      "outputs": []
    },
    {
      "cell_type": "code",
      "metadata": {
        "colab": {
          "base_uri": "https://localhost:8080/",
          "height": 419
        },
        "id": "Rj_GJSUfFqYB",
        "outputId": "c0294166-9a2b-4196-f859-31291b72bdb5"
      },
      "source": [
        "hotdog"
      ],
      "execution_count": null,
      "outputs": [
        {
          "output_type": "execute_result",
          "data": {
            "text/html": [
              "<div>\n",
              "<style scoped>\n",
              "    .dataframe tbody tr th:only-of-type {\n",
              "        vertical-align: middle;\n",
              "    }\n",
              "\n",
              "    .dataframe tbody tr th {\n",
              "        vertical-align: top;\n",
              "    }\n",
              "\n",
              "    .dataframe thead th {\n",
              "        text-align: right;\n",
              "    }\n",
              "</style>\n",
              "<table border=\"1\" class=\"dataframe\">\n",
              "  <thead>\n",
              "    <tr style=\"text-align: right;\">\n",
              "      <th></th>\n",
              "      <th>StoreNumber</th>\n",
              "      <th>dayOfTheYear</th>\n",
              "      <th>3HourBucket</th>\n",
              "      <th>GrossSoldQuantity</th>\n",
              "      <th>Cash/Credit Site</th>\n",
              "      <th>EBT Site</th>\n",
              "      <th>Loyalty Site</th>\n",
              "      <th>ExtraMile Site</th>\n",
              "      <th>CoBrand</th>\n",
              "      <th>Alcohol</th>\n",
              "      <th>Carwash</th>\n",
              "      <th>Food Service</th>\n",
              "      <th>City</th>\n",
              "      <th>State</th>\n",
              "    </tr>\n",
              "  </thead>\n",
              "  <tbody>\n",
              "    <tr>\n",
              "      <th>0</th>\n",
              "      <td>1000</td>\n",
              "      <td>1</td>\n",
              "      <td>1</td>\n",
              "      <td>3</td>\n",
              "      <td>False</td>\n",
              "      <td>True</td>\n",
              "      <td>True</td>\n",
              "      <td>True</td>\n",
              "      <td>No</td>\n",
              "      <td>True</td>\n",
              "      <td>False</td>\n",
              "      <td>True</td>\n",
              "      <td>HOUSTON</td>\n",
              "      <td>TX</td>\n",
              "    </tr>\n",
              "    <tr>\n",
              "      <th>1</th>\n",
              "      <td>1000</td>\n",
              "      <td>1</td>\n",
              "      <td>2</td>\n",
              "      <td>5</td>\n",
              "      <td>False</td>\n",
              "      <td>True</td>\n",
              "      <td>True</td>\n",
              "      <td>True</td>\n",
              "      <td>No</td>\n",
              "      <td>True</td>\n",
              "      <td>False</td>\n",
              "      <td>True</td>\n",
              "      <td>HOUSTON</td>\n",
              "      <td>TX</td>\n",
              "    </tr>\n",
              "    <tr>\n",
              "      <th>2</th>\n",
              "      <td>1000</td>\n",
              "      <td>1</td>\n",
              "      <td>3</td>\n",
              "      <td>6</td>\n",
              "      <td>False</td>\n",
              "      <td>True</td>\n",
              "      <td>True</td>\n",
              "      <td>True</td>\n",
              "      <td>No</td>\n",
              "      <td>True</td>\n",
              "      <td>False</td>\n",
              "      <td>True</td>\n",
              "      <td>HOUSTON</td>\n",
              "      <td>TX</td>\n",
              "    </tr>\n",
              "    <tr>\n",
              "      <th>3</th>\n",
              "      <td>1000</td>\n",
              "      <td>1</td>\n",
              "      <td>4</td>\n",
              "      <td>3</td>\n",
              "      <td>False</td>\n",
              "      <td>True</td>\n",
              "      <td>True</td>\n",
              "      <td>True</td>\n",
              "      <td>No</td>\n",
              "      <td>True</td>\n",
              "      <td>False</td>\n",
              "      <td>True</td>\n",
              "      <td>HOUSTON</td>\n",
              "      <td>TX</td>\n",
              "    </tr>\n",
              "    <tr>\n",
              "      <th>4</th>\n",
              "      <td>1000</td>\n",
              "      <td>2</td>\n",
              "      <td>1</td>\n",
              "      <td>13</td>\n",
              "      <td>False</td>\n",
              "      <td>True</td>\n",
              "      <td>True</td>\n",
              "      <td>True</td>\n",
              "      <td>No</td>\n",
              "      <td>True</td>\n",
              "      <td>False</td>\n",
              "      <td>True</td>\n",
              "      <td>HOUSTON</td>\n",
              "      <td>TX</td>\n",
              "    </tr>\n",
              "    <tr>\n",
              "      <th>...</th>\n",
              "      <td>...</td>\n",
              "      <td>...</td>\n",
              "      <td>...</td>\n",
              "      <td>...</td>\n",
              "      <td>...</td>\n",
              "      <td>...</td>\n",
              "      <td>...</td>\n",
              "      <td>...</td>\n",
              "      <td>...</td>\n",
              "      <td>...</td>\n",
              "      <td>...</td>\n",
              "      <td>...</td>\n",
              "      <td>...</td>\n",
              "      <td>...</td>\n",
              "    </tr>\n",
              "    <tr>\n",
              "      <th>5655</th>\n",
              "      <td>4000</td>\n",
              "      <td>362</td>\n",
              "      <td>2</td>\n",
              "      <td>20</td>\n",
              "      <td>False</td>\n",
              "      <td>False</td>\n",
              "      <td>True</td>\n",
              "      <td>True</td>\n",
              "      <td>No</td>\n",
              "      <td>False</td>\n",
              "      <td>True</td>\n",
              "      <td>True</td>\n",
              "      <td>SAN ANTONiO</td>\n",
              "      <td>TX</td>\n",
              "    </tr>\n",
              "    <tr>\n",
              "      <th>5656</th>\n",
              "      <td>4000</td>\n",
              "      <td>362</td>\n",
              "      <td>3</td>\n",
              "      <td>26</td>\n",
              "      <td>False</td>\n",
              "      <td>False</td>\n",
              "      <td>True</td>\n",
              "      <td>True</td>\n",
              "      <td>No</td>\n",
              "      <td>False</td>\n",
              "      <td>True</td>\n",
              "      <td>True</td>\n",
              "      <td>SAN ANTONiO</td>\n",
              "      <td>TX</td>\n",
              "    </tr>\n",
              "    <tr>\n",
              "      <th>5657</th>\n",
              "      <td>4000</td>\n",
              "      <td>362</td>\n",
              "      <td>4</td>\n",
              "      <td>37</td>\n",
              "      <td>False</td>\n",
              "      <td>False</td>\n",
              "      <td>True</td>\n",
              "      <td>True</td>\n",
              "      <td>No</td>\n",
              "      <td>False</td>\n",
              "      <td>True</td>\n",
              "      <td>True</td>\n",
              "      <td>SAN ANTONiO</td>\n",
              "      <td>TX</td>\n",
              "    </tr>\n",
              "    <tr>\n",
              "      <th>5658</th>\n",
              "      <td>4000</td>\n",
              "      <td>363</td>\n",
              "      <td>3</td>\n",
              "      <td>27</td>\n",
              "      <td>False</td>\n",
              "      <td>False</td>\n",
              "      <td>True</td>\n",
              "      <td>True</td>\n",
              "      <td>No</td>\n",
              "      <td>False</td>\n",
              "      <td>True</td>\n",
              "      <td>True</td>\n",
              "      <td>SAN ANTONiO</td>\n",
              "      <td>TX</td>\n",
              "    </tr>\n",
              "    <tr>\n",
              "      <th>5659</th>\n",
              "      <td>4000</td>\n",
              "      <td>363</td>\n",
              "      <td>4</td>\n",
              "      <td>43</td>\n",
              "      <td>False</td>\n",
              "      <td>False</td>\n",
              "      <td>True</td>\n",
              "      <td>True</td>\n",
              "      <td>No</td>\n",
              "      <td>False</td>\n",
              "      <td>True</td>\n",
              "      <td>True</td>\n",
              "      <td>SAN ANTONiO</td>\n",
              "      <td>TX</td>\n",
              "    </tr>\n",
              "  </tbody>\n",
              "</table>\n",
              "<p>5660 rows × 14 columns</p>\n",
              "</div>"
            ],
            "text/plain": [
              "      StoreNumber  dayOfTheYear  3HourBucket  ...  Food Service         City  State\n",
              "0            1000             1            1  ...          True      HOUSTON     TX\n",
              "1            1000             1            2  ...          True      HOUSTON     TX\n",
              "2            1000             1            3  ...          True      HOUSTON     TX\n",
              "3            1000             1            4  ...          True      HOUSTON     TX\n",
              "4            1000             2            1  ...          True      HOUSTON     TX\n",
              "...           ...           ...          ...  ...           ...          ...    ...\n",
              "5655         4000           362            2  ...          True  SAN ANTONiO     TX\n",
              "5656         4000           362            3  ...          True  SAN ANTONiO     TX\n",
              "5657         4000           362            4  ...          True  SAN ANTONiO     TX\n",
              "5658         4000           363            3  ...          True  SAN ANTONiO     TX\n",
              "5659         4000           363            4  ...          True  SAN ANTONiO     TX\n",
              "\n",
              "[5660 rows x 14 columns]"
            ]
          },
          "metadata": {
            "tags": []
          },
          "execution_count": 174
        }
      ]
    },
    {
      "cell_type": "code",
      "metadata": {
        "id": "cV9SMhLXktlg"
      },
      "source": [
        "def transform_TF(boolean):\n",
        "  if boolean == 'No':\n",
        "    return 0\n",
        "  elif boolean == 'Yes':\n",
        "    return 1\n",
        "  elif boolean:\n",
        "    return 1\n",
        "  else: \n",
        "    return 0\n",
        "hotdog['Loyalty Site'].map(transform_TF)\n",
        "scoring['Loyalty Site'].map(transform_TF)\n",
        "\n",
        "cty_map = {'HOUSTON':0,'AUSTIN':1,'COLLEGE STATION':2,'SAN ANTONiO':3} "
      ],
      "execution_count": null,
      "outputs": []
    },
    {
      "cell_type": "code",
      "metadata": {
        "id": "ySq96exik-Qi"
      },
      "source": [
        "#Convert True and Yes to 1, False and No to 0. Additionally, convert city names to numbers\n",
        "for col in hotdog.columns[4:-2]:\n",
        "  hotdog[col] = hotdog[col].map(transform_TF)\n",
        "  scoring[col] = scoring[col].map(transform_TF)\n",
        "hotdog['City'] = hotdog['City'].map(cty_map)  \n",
        "scoring['City'] = scoring['City'].map(cty_map)  "
      ],
      "execution_count": null,
      "outputs": []
    },
    {
      "cell_type": "code",
      "metadata": {
        "colab": {
          "base_uri": "https://localhost:8080/"
        },
        "id": "quxEog7QlS14",
        "outputId": "8de6bf95-57d0-402d-95e2-689b403717af"
      },
      "source": [
        "hotdog.columns"
      ],
      "execution_count": null,
      "outputs": [
        {
          "output_type": "execute_result",
          "data": {
            "text/plain": [
              "Index(['StoreNumber', 'dayOfTheYear', '3HourBucket', 'GrossSoldQuantity',\n",
              "       'Cash/Credit Site', 'EBT Site', 'Loyalty Site', 'ExtraMile Site',\n",
              "       'CoBrand', 'Alcohol', 'Carwash', 'Food Service', 'City', 'State'],\n",
              "      dtype='object')"
            ]
          },
          "metadata": {
            "tags": []
          },
          "execution_count": 144
        }
      ]
    },
    {
      "cell_type": "code",
      "metadata": {
        "colab": {
          "base_uri": "https://localhost:8080/",
          "height": 173
        },
        "id": "jOLTjjaiqCR7",
        "outputId": "faedb8c6-674b-427c-a064-a4e9384071a2"
      },
      "source": [
        "hotdog[['Cash/Credit Site', 'EBT Site', 'Loyalty Site', 'ExtraMile Site',\n",
        "       'CoBrand', 'Alcohol', 'Carwash', 'Food Service','City']].drop_duplicates()"
      ],
      "execution_count": null,
      "outputs": [
        {
          "output_type": "execute_result",
          "data": {
            "text/html": [
              "<div>\n",
              "<style scoped>\n",
              "    .dataframe tbody tr th:only-of-type {\n",
              "        vertical-align: middle;\n",
              "    }\n",
              "\n",
              "    .dataframe tbody tr th {\n",
              "        vertical-align: top;\n",
              "    }\n",
              "\n",
              "    .dataframe thead th {\n",
              "        text-align: right;\n",
              "    }\n",
              "</style>\n",
              "<table border=\"1\" class=\"dataframe\">\n",
              "  <thead>\n",
              "    <tr style=\"text-align: right;\">\n",
              "      <th></th>\n",
              "      <th>Cash/Credit Site</th>\n",
              "      <th>EBT Site</th>\n",
              "      <th>Loyalty Site</th>\n",
              "      <th>ExtraMile Site</th>\n",
              "      <th>CoBrand</th>\n",
              "      <th>Alcohol</th>\n",
              "      <th>Carwash</th>\n",
              "      <th>Food Service</th>\n",
              "      <th>City</th>\n",
              "    </tr>\n",
              "  </thead>\n",
              "  <tbody>\n",
              "    <tr>\n",
              "      <th>0</th>\n",
              "      <td>0</td>\n",
              "      <td>1</td>\n",
              "      <td>1</td>\n",
              "      <td>1</td>\n",
              "      <td>0</td>\n",
              "      <td>1</td>\n",
              "      <td>0</td>\n",
              "      <td>1</td>\n",
              "      <td>0</td>\n",
              "    </tr>\n",
              "    <tr>\n",
              "      <th>1413</th>\n",
              "      <td>0</td>\n",
              "      <td>0</td>\n",
              "      <td>1</td>\n",
              "      <td>1</td>\n",
              "      <td>0</td>\n",
              "      <td>0</td>\n",
              "      <td>0</td>\n",
              "      <td>1</td>\n",
              "      <td>1</td>\n",
              "    </tr>\n",
              "    <tr>\n",
              "      <th>2830</th>\n",
              "      <td>0</td>\n",
              "      <td>1</td>\n",
              "      <td>1</td>\n",
              "      <td>1</td>\n",
              "      <td>0</td>\n",
              "      <td>1</td>\n",
              "      <td>1</td>\n",
              "      <td>1</td>\n",
              "      <td>2</td>\n",
              "    </tr>\n",
              "    <tr>\n",
              "      <th>4243</th>\n",
              "      <td>0</td>\n",
              "      <td>0</td>\n",
              "      <td>1</td>\n",
              "      <td>1</td>\n",
              "      <td>0</td>\n",
              "      <td>0</td>\n",
              "      <td>1</td>\n",
              "      <td>1</td>\n",
              "      <td>3</td>\n",
              "    </tr>\n",
              "  </tbody>\n",
              "</table>\n",
              "</div>"
            ],
            "text/plain": [
              "      Cash/Credit Site  EBT Site  Loyalty Site  ...  Carwash  Food Service  City\n",
              "0                    0         1             1  ...        0             1     0\n",
              "1413                 0         0             1  ...        0             1     1\n",
              "2830                 0         1             1  ...        1             1     2\n",
              "4243                 0         0             1  ...        1             1     3\n",
              "\n",
              "[4 rows x 9 columns]"
            ]
          },
          "metadata": {
            "tags": []
          },
          "execution_count": 145
        }
      ]
    },
    {
      "cell_type": "code",
      "metadata": {
        "id": "ipXIU1zFqfwl",
        "colab": {
          "base_uri": "https://localhost:8080/"
        },
        "outputId": "b35004af-3c31-4c79-bfb6-020d705bc14f"
      },
      "source": [
        "from sklearn.ensemble import RandomForestRegressor\r\n",
        "from sklearn.model_selection import train_test_split\r\n",
        "\r\n",
        "\r\n",
        "X = hotdog[['dayOfTheYear','EBT Site',\r\n",
        "       'Alcohol', 'Carwash','3HourBucket','City']]\r\n",
        "       \r\n",
        "y = hotdog[['GrossSoldQuantity']]\r\n",
        "train_X, test_X, train_y, y_test = train_test_split(X , y, test_size = 0.2) \r\n",
        "\r\n",
        "clf = RandomForestRegressor(n_estimators=150)\r\n",
        "clf.fit(train_X, train_y)\r\n",
        "y_pred_rf=clf.predict(test_X)\r\n",
        "acc_rf= round(clf.score(train_X, train_y) * 100,3)"
      ],
      "execution_count": null,
      "outputs": [
        {
          "output_type": "stream",
          "text": [
            "/usr/local/lib/python3.6/dist-packages/ipykernel_launcher.py:11: DataConversionWarning: A column-vector y was passed when a 1d array was expected. Please change the shape of y to (n_samples,), for example using ravel().\n",
            "  # This is added back by InteractiveShellApp.init_path()\n"
          ],
          "name": "stderr"
        }
      ]
    },
    {
      "cell_type": "code",
      "metadata": {
        "id": "01ciurVOt9fP",
        "colab": {
          "base_uri": "https://localhost:8080/"
        },
        "outputId": "721d0d67-2826-4b93-a26d-22eda6680d67"
      },
      "source": [
        "y_pred_rf"
      ],
      "execution_count": null,
      "outputs": [
        {
          "output_type": "execute_result",
          "data": {
            "text/plain": [
              "array([20.42      , 15.75333333, 42.95333333, ..., 30.50666667,\n",
              "       32.14      , 32.86      ])"
            ]
          },
          "metadata": {
            "tags": []
          },
          "execution_count": 161
        }
      ]
    },
    {
      "cell_type": "code",
      "metadata": {
        "colab": {
          "base_uri": "https://localhost:8080/"
        },
        "id": "ILIz4GpDvZpq",
        "outputId": "06c4d25d-2de0-4f23-95dc-d7257792abdc"
      },
      "source": [
        "acc_rf"
      ],
      "execution_count": null,
      "outputs": [
        {
          "output_type": "execute_result",
          "data": {
            "text/plain": [
              "95.065"
            ]
          },
          "metadata": {
            "tags": []
          },
          "execution_count": 162
        }
      ]
    },
    {
      "cell_type": "code",
      "metadata": {
        "colab": {
          "base_uri": "https://localhost:8080/",
          "height": 419
        },
        "id": "hHfZCPxyvayG",
        "outputId": "f7c0faf4-9253-4603-9465-64cc82f44763"
      },
      "source": [
        "y_test"
      ],
      "execution_count": null,
      "outputs": [
        {
          "output_type": "execute_result",
          "data": {
            "text/html": [
              "<div>\n",
              "<style scoped>\n",
              "    .dataframe tbody tr th:only-of-type {\n",
              "        vertical-align: middle;\n",
              "    }\n",
              "\n",
              "    .dataframe tbody tr th {\n",
              "        vertical-align: top;\n",
              "    }\n",
              "\n",
              "    .dataframe thead th {\n",
              "        text-align: right;\n",
              "    }\n",
              "</style>\n",
              "<table border=\"1\" class=\"dataframe\">\n",
              "  <thead>\n",
              "    <tr style=\"text-align: right;\">\n",
              "      <th></th>\n",
              "      <th>GrossSoldQuantity</th>\n",
              "    </tr>\n",
              "  </thead>\n",
              "  <tbody>\n",
              "    <tr>\n",
              "      <th>3987</th>\n",
              "      <td>20</td>\n",
              "    </tr>\n",
              "    <tr>\n",
              "      <th>4847</th>\n",
              "      <td>25</td>\n",
              "    </tr>\n",
              "    <tr>\n",
              "      <th>4456</th>\n",
              "      <td>42</td>\n",
              "    </tr>\n",
              "    <tr>\n",
              "      <th>4951</th>\n",
              "      <td>61</td>\n",
              "    </tr>\n",
              "    <tr>\n",
              "      <th>182</th>\n",
              "      <td>5</td>\n",
              "    </tr>\n",
              "    <tr>\n",
              "      <th>...</th>\n",
              "      <td>...</td>\n",
              "    </tr>\n",
              "    <tr>\n",
              "      <th>1346</th>\n",
              "      <td>30</td>\n",
              "    </tr>\n",
              "    <tr>\n",
              "      <th>4385</th>\n",
              "      <td>62</td>\n",
              "    </tr>\n",
              "    <tr>\n",
              "      <th>578</th>\n",
              "      <td>14</td>\n",
              "    </tr>\n",
              "    <tr>\n",
              "      <th>773</th>\n",
              "      <td>56</td>\n",
              "    </tr>\n",
              "    <tr>\n",
              "      <th>5311</th>\n",
              "      <td>10</td>\n",
              "    </tr>\n",
              "  </tbody>\n",
              "</table>\n",
              "<p>1132 rows × 1 columns</p>\n",
              "</div>"
            ],
            "text/plain": [
              "      GrossSoldQuantity\n",
              "3987                 20\n",
              "4847                 25\n",
              "4456                 42\n",
              "4951                 61\n",
              "182                   5\n",
              "...                 ...\n",
              "1346                 30\n",
              "4385                 62\n",
              "578                  14\n",
              "773                  56\n",
              "5311                 10\n",
              "\n",
              "[1132 rows x 1 columns]"
            ]
          },
          "metadata": {
            "tags": []
          },
          "execution_count": 163
        }
      ]
    },
    {
      "cell_type": "code",
      "metadata": {
        "id": "n0xUxMcGvt71"
      },
      "source": [
        "import math\n",
        "import numpy as np\n",
        "\n",
        "new_y = [x[0] for x in np.array(y_test)]\n",
        "data = pd.DataFrame(columns = ['predict','real'])\n",
        "data['predict'] = pd.Series(y_pred_rf).round().astype(int)\n",
        "data['real'] = new_y\n",
        "data['diff'] = abs((data['predict']-data['real'])/data['real'])\n"
      ],
      "execution_count": null,
      "outputs": []
    },
    {
      "cell_type": "code",
      "metadata": {
        "colab": {
          "base_uri": "https://localhost:8080/",
          "height": 283
        },
        "id": "l_aNriw9xMBi",
        "outputId": "4a424050-ed2b-4dc1-f2ef-7cfefd99595d"
      },
      "source": [
        "data['diff'].plot()"
      ],
      "execution_count": null,
      "outputs": [
        {
          "output_type": "execute_result",
          "data": {
            "text/plain": [
              "<matplotlib.axes._subplots.AxesSubplot at 0x7f90df6a9d30>"
            ]
          },
          "metadata": {
            "tags": []
          },
          "execution_count": 165
        },
        {
          "output_type": "display_data",
          "data": {
            "image/png": "[encoded data removed]",
            "text/plain": [
              "<Figure size 432x288 with 1 Axes>"
            ]
          },
          "metadata": {
            "tags": [],
            "needs_background": "light"
          }
        }
      ]
    },
    {
      "cell_type": "code",
      "metadata": {
        "id": "nRSxD8QJyBwU",
        "colab": {
          "base_uri": "https://localhost:8080/"
        },
        "outputId": "2fe1e072-3281-4a67-f0e0-08a92d46759a"
      },
      "source": [
        "data['predict']"
      ],
      "execution_count": null,
      "outputs": [
        {
          "output_type": "execute_result",
          "data": {
            "text/plain": [
              "0       20\n",
              "1       16\n",
              "2       43\n",
              "3       62\n",
              "4        9\n",
              "        ..\n",
              "1127    38\n",
              "1128    49\n",
              "1129    31\n",
              "1130    32\n",
              "1131    33\n",
              "Name: predict, Length: 1132, dtype: int64"
            ]
          },
          "metadata": {
            "tags": []
          },
          "execution_count": 166
        }
      ]
    },
    {
      "cell_type": "code",
      "metadata": {
        "colab": {
          "base_uri": "https://localhost:8080/"
        },
        "id": "DDtH2cRuz1Zu",
        "outputId": "af26ae50-565d-4237-d853-66374285888b"
      },
      "source": [
        "sum(abs(np.subtract(new_y,y_pred_rf))<0.5)/len(new_y)"
      ],
      "execution_count": null,
      "outputs": [
        {
          "output_type": "execute_result",
          "data": {
            "text/plain": [
              "0.06007067137809187"
            ]
          },
          "metadata": {
            "tags": []
          },
          "execution_count": 167
        }
      ]
    },
    {
      "cell_type": "code",
      "metadata": {
        "id": "Gr5Y95uo1KBs"
      },
      "source": [
        "prediction=clf.predict(scoring[['dayOfTheYear','EBT Site',\n",
        "       'Alcohol', 'Carwash','3HourBucket','City']])\n"
      ],
      "execution_count": null,
      "outputs": []
    },
    {
      "cell_type": "code",
      "metadata": {
        "id": "wbFP6MrBBm0h"
      },
      "source": [
        "prediction = pd.Series(prediction).round().astype(int)"
      ],
      "execution_count": null,
      "outputs": []
    },
    {
      "cell_type": "code",
      "metadata": {
        "colab": {
          "base_uri": "https://localhost:8080/"
        },
        "id": "orRI4PrOBpgD",
        "outputId": "15e80d01-7910-4166-ba32-e0aaabb956c6"
      },
      "source": [
        "list(prediction)"
      ],
      "execution_count": null,
      "outputs": [
        {
          "output_type": "execute_result",
          "data": {
            "text/plain": [
              "[6,\n",
              " 5,\n",
              " 7,\n",
              " 6,\n",
              " 6,\n",
              " 5,\n",
              " 7,\n",
              " 6,\n",
              " 20,\n",
              " 8,\n",
              " 8,\n",
              " 8,\n",
              " 20,\n",
              " 8,\n",
              " 8,\n",
              " 8,\n",
              " 16,\n",
              " 8,\n",
              " 8,\n",
              " 7,\n",
              " 16,\n",
              " 8,\n",
              " 8,\n",
              " 7,\n",
              " 17,\n",
              " 30,\n",
              " 29,\n",
              " 46,\n",
              " 17,\n",
              " 30,\n",
              " 29,\n",
              " 46]"
            ]
          },
          "metadata": {
            "tags": []
          },
          "execution_count": 170
        }
      ]
    },
    {
      "cell_type": "code",
      "metadata": {
        "id": "mz4V5p8QBz36"
      },
      "source": [
        ""
      ],
      "execution_count": null,
      "outputs": []
    }
  ]
}